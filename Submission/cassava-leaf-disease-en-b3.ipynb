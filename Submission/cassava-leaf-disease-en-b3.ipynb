{
 "cells": [
  {
   "cell_type": "code",
   "execution_count": 1,
   "metadata": {
    "_cell_guid": "b1076dfc-b9ad-4769-8c92-a6c4dae69d19",
    "_uuid": "8f2839f25d086af736a60e9eeb907d3b93b6e0e5",
    "execution": {
     "iopub.execute_input": "2021-02-06T11:28:26.997543Z",
     "iopub.status.busy": "2021-02-06T11:28:26.996902Z",
     "iopub.status.idle": "2021-02-06T11:28:27.004019Z",
     "shell.execute_reply": "2021-02-06T11:28:27.004512Z"
    },
    "papermill": {
     "duration": 0.019957,
     "end_time": "2021-02-06T11:28:27.004673",
     "exception": false,
     "start_time": "2021-02-06T11:28:26.984716",
     "status": "completed"
    },
    "tags": []
   },
   "outputs": [
    {
     "data": {
      "text/plain": [
       "['train_tfrecords',\n",
       " 'sample_submission.csv',\n",
       " 'test_tfrecords',\n",
       " 'label_num_to_disease_map.json',\n",
       " 'train_images',\n",
       " 'train.csv',\n",
       " 'test_images']"
      ]
     },
     "execution_count": 1,
     "metadata": {},
     "output_type": "execute_result"
    }
   ],
   "source": [
    "import numpy as np # linear algebra\n",
    "import pandas as pd # data processing, CSV file I/O (e.g. pd.read_csv)\n",
    "\n",
    "import os\n",
    "ROOT_DIR = '../input/cassava-leaf-disease-classification/'\n",
    "os.listdir(ROOT_DIR)"
   ]
  },
  {
   "cell_type": "code",
   "execution_count": 2,
   "metadata": {
    "_cell_guid": "79c7e3d0-c299-4dcb-8224-4455121ee9b0",
    "_uuid": "d629ff2d2480ee46fbb7e2d37f6b5fab8052498a",
    "execution": {
     "iopub.execute_input": "2021-02-06T11:28:27.021441Z",
     "iopub.status.busy": "2021-02-06T11:28:27.020809Z",
     "iopub.status.idle": "2021-02-06T11:28:33.851965Z",
     "shell.execute_reply": "2021-02-06T11:28:33.851155Z"
    },
    "papermill": {
     "duration": 6.840339,
     "end_time": "2021-02-06T11:28:33.852088",
     "exception": false,
     "start_time": "2021-02-06T11:28:27.011749",
     "status": "completed"
    },
    "tags": []
   },
   "outputs": [],
   "source": [
    "from PIL import Image\n",
    "from keras.models import load_model"
   ]
  },
  {
   "cell_type": "markdown",
   "metadata": {
    "papermill": {
     "duration": 0.006801,
     "end_time": "2021-02-06T11:28:33.866068",
     "exception": false,
     "start_time": "2021-02-06T11:28:33.859267",
     "status": "completed"
    },
    "tags": []
   },
   "source": [
    "# Load the best model from training"
   ]
  },
  {
   "cell_type": "code",
   "execution_count": 3,
   "metadata": {
    "execution": {
     "iopub.execute_input": "2021-02-06T11:28:33.884816Z",
     "iopub.status.busy": "2021-02-06T11:28:33.883739Z",
     "iopub.status.idle": "2021-02-06T11:28:33.887072Z",
     "shell.execute_reply": "2021-02-06T11:28:33.887604Z"
    },
    "papermill": {
     "duration": 0.014928,
     "end_time": "2021-02-06T11:28:33.887758",
     "exception": false,
     "start_time": "2021-02-06T11:28:33.872830",
     "status": "completed"
    },
    "tags": []
   },
   "outputs": [],
   "source": [
    "TEST_DIR = '../input/cassava-leaf-disease-classification/test_images/'"
   ]
  },
  {
   "cell_type": "code",
   "execution_count": 4,
   "metadata": {
    "execution": {
     "iopub.execute_input": "2021-02-06T11:28:33.906159Z",
     "iopub.status.busy": "2021-02-06T11:28:33.905517Z",
     "iopub.status.idle": "2021-02-06T11:28:43.481175Z",
     "shell.execute_reply": "2021-02-06T11:28:43.480666Z"
    },
    "papermill": {
     "duration": 9.586637,
     "end_time": "2021-02-06T11:28:43.481298",
     "exception": false,
     "start_time": "2021-02-06T11:28:33.894661",
     "status": "completed"
    },
    "tags": []
   },
   "outputs": [],
   "source": [
    "# load the best saved model as a new model\n",
    "new_model = load_model('../input/model-b3/best_model (2).hdf5')"
   ]
  },
  {
   "cell_type": "code",
   "execution_count": 5,
   "metadata": {
    "execution": {
     "iopub.execute_input": "2021-02-06T11:28:43.513371Z",
     "iopub.status.busy": "2021-02-06T11:28:43.509694Z",
     "iopub.status.idle": "2021-02-06T11:28:43.536173Z",
     "shell.execute_reply": "2021-02-06T11:28:43.535617Z"
    },
    "papermill": {
     "duration": 0.048044,
     "end_time": "2021-02-06T11:28:43.536302",
     "exception": false,
     "start_time": "2021-02-06T11:28:43.488258",
     "status": "completed"
    },
    "tags": []
   },
   "outputs": [
    {
     "name": "stdout",
     "output_type": "stream",
     "text": [
      "Model: \"sequential\"\n",
      "_________________________________________________________________\n",
      "Layer (type)                 Output Shape              Param #   \n",
      "=================================================================\n",
      "efficientnetb3 (Functional)  (None, 10, 10, 1536)      10783535  \n",
      "_________________________________________________________________\n",
      "global_average_pooling2d (Gl (None, 1536)              0         \n",
      "_________________________________________________________________\n",
      "dense (Dense)                (None, 256)               393472    \n",
      "_________________________________________________________________\n",
      "dropout (Dropout)            (None, 256)               0         \n",
      "_________________________________________________________________\n",
      "dense_1 (Dense)              (None, 5)                 1285      \n",
      "=================================================================\n",
      "Total params: 11,178,292\n",
      "Trainable params: 11,090,989\n",
      "Non-trainable params: 87,303\n",
      "_________________________________________________________________\n"
     ]
    }
   ],
   "source": [
    "new_model.summary()"
   ]
  },
  {
   "cell_type": "markdown",
   "metadata": {
    "papermill": {
     "duration": 0.006925,
     "end_time": "2021-02-06T11:28:43.550593",
     "exception": false,
     "start_time": "2021-02-06T11:28:43.543668",
     "status": "completed"
    },
    "tags": []
   },
   "source": [
    "# Prediction and submission"
   ]
  },
  {
   "cell_type": "code",
   "execution_count": 6,
   "metadata": {
    "execution": {
     "iopub.execute_input": "2021-02-06T11:28:43.570189Z",
     "iopub.status.busy": "2021-02-06T11:28:43.569473Z",
     "iopub.status.idle": "2021-02-06T11:28:43.573660Z",
     "shell.execute_reply": "2021-02-06T11:28:43.573060Z"
    },
    "papermill": {
     "duration": 0.015818,
     "end_time": "2021-02-06T11:28:43.573771",
     "exception": false,
     "start_time": "2021-02-06T11:28:43.557953",
     "status": "completed"
    },
    "tags": []
   },
   "outputs": [],
   "source": [
    "IMG_SIZE = 300\n",
    "size = (IMG_SIZE,IMG_SIZE)"
   ]
  },
  {
   "cell_type": "code",
   "execution_count": 7,
   "metadata": {
    "execution": {
     "iopub.execute_input": "2021-02-06T11:28:43.595011Z",
     "iopub.status.busy": "2021-02-06T11:28:43.594371Z",
     "iopub.status.idle": "2021-02-06T11:28:46.234563Z",
     "shell.execute_reply": "2021-02-06T11:28:46.233798Z"
    },
    "papermill": {
     "duration": 2.653532,
     "end_time": "2021-02-06T11:28:46.234739",
     "exception": false,
     "start_time": "2021-02-06T11:28:43.581207",
     "status": "completed"
    },
    "tags": []
   },
   "outputs": [],
   "source": [
    "test_images = os.listdir(TEST_DIR)\n",
    "preds = []\n",
    "for image in test_images:\n",
    "    img = Image.open(TEST_DIR + image)\n",
    "    img = img.resize(size)\n",
    "    img = np.expand_dims(img, axis=0)\n",
    "    preds.extend(new_model.predict(img).argmax(axis = 1))"
   ]
  },
  {
   "cell_type": "code",
   "execution_count": 8,
   "metadata": {
    "execution": {
     "iopub.execute_input": "2021-02-06T11:28:46.258382Z",
     "iopub.status.busy": "2021-02-06T11:28:46.257606Z",
     "iopub.status.idle": "2021-02-06T11:28:46.261641Z",
     "shell.execute_reply": "2021-02-06T11:28:46.261087Z"
    },
    "papermill": {
     "duration": 0.01593,
     "end_time": "2021-02-06T11:28:46.261759",
     "exception": false,
     "start_time": "2021-02-06T11:28:46.245829",
     "status": "completed"
    },
    "tags": []
   },
   "outputs": [
    {
     "data": {
      "text/plain": [
       "[2]"
      ]
     },
     "execution_count": 8,
     "metadata": {},
     "output_type": "execute_result"
    }
   ],
   "source": [
    "preds"
   ]
  },
  {
   "cell_type": "code",
   "execution_count": 9,
   "metadata": {
    "execution": {
     "iopub.execute_input": "2021-02-06T11:28:46.280833Z",
     "iopub.status.busy": "2021-02-06T11:28:46.280244Z",
     "iopub.status.idle": "2021-02-06T11:28:46.741994Z",
     "shell.execute_reply": "2021-02-06T11:28:46.741164Z"
    },
    "papermill": {
     "duration": 0.472374,
     "end_time": "2021-02-06T11:28:46.742122",
     "exception": false,
     "start_time": "2021-02-06T11:28:46.269748",
     "status": "completed"
    },
    "tags": []
   },
   "outputs": [
    {
     "data": {
      "text/html": [
       "<div>\n",
       "<style scoped>\n",
       "    .dataframe tbody tr th:only-of-type {\n",
       "        vertical-align: middle;\n",
       "    }\n",
       "\n",
       "    .dataframe tbody tr th {\n",
       "        vertical-align: top;\n",
       "    }\n",
       "\n",
       "    .dataframe thead th {\n",
       "        text-align: right;\n",
       "    }\n",
       "</style>\n",
       "<table border=\"1\" class=\"dataframe\">\n",
       "  <thead>\n",
       "    <tr style=\"text-align: right;\">\n",
       "      <th></th>\n",
       "      <th>image_id</th>\n",
       "      <th>label</th>\n",
       "    </tr>\n",
       "  </thead>\n",
       "  <tbody>\n",
       "    <tr>\n",
       "      <th>0</th>\n",
       "      <td>2216849948.jpg</td>\n",
       "      <td>2</td>\n",
       "    </tr>\n",
       "  </tbody>\n",
       "</table>\n",
       "</div>"
      ],
      "text/plain": [
       "         image_id  label\n",
       "0  2216849948.jpg      2"
      ]
     },
     "metadata": {},
     "output_type": "display_data"
    }
   ],
   "source": [
    "sub = pd.DataFrame({'image_id': test_images, 'label': preds})\n",
    "display(sub)\n",
    "sub.to_csv('submission.csv', index = False)"
   ]
  },
  {
   "cell_type": "markdown",
   "metadata": {
    "papermill": {
     "duration": 0.007874,
     "end_time": "2021-02-06T11:28:46.758413",
     "exception": false,
     "start_time": "2021-02-06T11:28:46.750539",
     "status": "completed"
    },
    "tags": []
   },
   "source": [
    "[Training Notebook](https://www.kaggle.com/lavanyask/cassava-leaf-disease-first-look-and-training)"
   ]
  }
 ],
 "metadata": {
  "kernelspec": {
   "display_name": "Python 3",
   "language": "python",
   "name": "python3"
  },
  "language_info": {
   "codemirror_mode": {
    "name": "ipython",
    "version": 3
   },
   "file_extension": ".py",
   "mimetype": "text/x-python",
   "name": "python",
   "nbconvert_exporter": "python",
   "pygments_lexer": "ipython3",
   "version": "3.7.6"
  },
  "papermill": {
   "duration": 24.774146,
   "end_time": "2021-02-06T11:28:46.875752",
   "environment_variables": {},
   "exception": null,
   "input_path": "__notebook__.ipynb",
   "output_path": "__notebook__.ipynb",
   "parameters": {},
   "start_time": "2021-02-06T11:28:22.101606",
   "version": "2.1.0"
  }
 },
 "nbformat": 4,
 "nbformat_minor": 4
}
