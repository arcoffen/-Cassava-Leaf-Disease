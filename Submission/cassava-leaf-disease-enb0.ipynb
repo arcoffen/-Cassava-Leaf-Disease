{
 "cells": [
  {
   "cell_type": "code",
   "execution_count": 1,
   "metadata": {
    "_cell_guid": "b1076dfc-b9ad-4769-8c92-a6c4dae69d19",
    "_uuid": "8f2839f25d086af736a60e9eeb907d3b93b6e0e5",
    "execution": {
     "iopub.execute_input": "2021-02-06T11:15:22.853308Z",
     "iopub.status.busy": "2021-02-06T11:15:22.852630Z",
     "iopub.status.idle": "2021-02-06T11:15:22.861081Z",
     "shell.execute_reply": "2021-02-06T11:15:22.861645Z"
    },
    "papermill": {
     "duration": 0.024815,
     "end_time": "2021-02-06T11:15:22.861818",
     "exception": false,
     "start_time": "2021-02-06T11:15:22.837003",
     "status": "completed"
    },
    "tags": []
   },
   "outputs": [
    {
     "data": {
      "text/plain": [
       "['train_tfrecords',\n",
       " 'sample_submission.csv',\n",
       " 'test_tfrecords',\n",
       " 'label_num_to_disease_map.json',\n",
       " 'train_images',\n",
       " 'train.csv',\n",
       " 'test_images']"
      ]
     },
     "execution_count": 1,
     "metadata": {},
     "output_type": "execute_result"
    }
   ],
   "source": [
    "import numpy as np # linear algebra\n",
    "import pandas as pd # data processing, CSV file I/O (e.g. pd.read_csv)\n",
    "\n",
    "import os\n",
    "ROOT_DIR = '../input/cassava-leaf-disease-classification/'\n",
    "os.listdir(ROOT_DIR)"
   ]
  },
  {
   "cell_type": "code",
   "execution_count": 2,
   "metadata": {
    "_cell_guid": "79c7e3d0-c299-4dcb-8224-4455121ee9b0",
    "_uuid": "d629ff2d2480ee46fbb7e2d37f6b5fab8052498a",
    "execution": {
     "iopub.execute_input": "2021-02-06T11:15:22.885634Z",
     "iopub.status.busy": "2021-02-06T11:15:22.884968Z",
     "iopub.status.idle": "2021-02-06T11:15:29.769927Z",
     "shell.execute_reply": "2021-02-06T11:15:29.769355Z"
    },
    "papermill": {
     "duration": 6.898518,
     "end_time": "2021-02-06T11:15:29.770044",
     "exception": false,
     "start_time": "2021-02-06T11:15:22.871526",
     "status": "completed"
    },
    "tags": []
   },
   "outputs": [],
   "source": [
    "from PIL import Image\n",
    "from keras.models import load_model"
   ]
  },
  {
   "cell_type": "markdown",
   "metadata": {
    "papermill": {
     "duration": 0.008718,
     "end_time": "2021-02-06T11:15:29.787926",
     "exception": false,
     "start_time": "2021-02-06T11:15:29.779208",
     "status": "completed"
    },
    "tags": []
   },
   "source": [
    "# Load the best model from training"
   ]
  },
  {
   "cell_type": "code",
   "execution_count": 3,
   "metadata": {
    "execution": {
     "iopub.execute_input": "2021-02-06T11:15:29.810708Z",
     "iopub.status.busy": "2021-02-06T11:15:29.809887Z",
     "iopub.status.idle": "2021-02-06T11:15:29.813222Z",
     "shell.execute_reply": "2021-02-06T11:15:29.812568Z"
    },
    "papermill": {
     "duration": 0.01669,
     "end_time": "2021-02-06T11:15:29.813331",
     "exception": false,
     "start_time": "2021-02-06T11:15:29.796641",
     "status": "completed"
    },
    "tags": []
   },
   "outputs": [],
   "source": [
    "TEST_DIR = '../input/cassava-leaf-disease-classification/test_images/'"
   ]
  },
  {
   "cell_type": "code",
   "execution_count": 4,
   "metadata": {
    "execution": {
     "iopub.execute_input": "2021-02-06T11:15:29.836587Z",
     "iopub.status.busy": "2021-02-06T11:15:29.835845Z",
     "iopub.status.idle": "2021-02-06T11:15:35.832289Z",
     "shell.execute_reply": "2021-02-06T11:15:35.831197Z"
    },
    "papermill": {
     "duration": 6.00993,
     "end_time": "2021-02-06T11:15:35.832440",
     "exception": false,
     "start_time": "2021-02-06T11:15:29.822510",
     "status": "completed"
    },
    "tags": []
   },
   "outputs": [],
   "source": [
    "# load the best saved model as a new model\n",
    "new_model = load_model('../input/b0-model/best_model (1).hdf5')"
   ]
  },
  {
   "cell_type": "code",
   "execution_count": 5,
   "metadata": {
    "execution": {
     "iopub.execute_input": "2021-02-06T11:15:35.868510Z",
     "iopub.status.busy": "2021-02-06T11:15:35.867752Z",
     "iopub.status.idle": "2021-02-06T11:15:35.888537Z",
     "shell.execute_reply": "2021-02-06T11:15:35.887616Z"
    },
    "papermill": {
     "duration": 0.046714,
     "end_time": "2021-02-06T11:15:35.888698",
     "exception": false,
     "start_time": "2021-02-06T11:15:35.841984",
     "status": "completed"
    },
    "tags": []
   },
   "outputs": [
    {
     "name": "stdout",
     "output_type": "stream",
     "text": [
      "Model: \"sequential\"\n",
      "_________________________________________________________________\n",
      "Layer (type)                 Output Shape              Param #   \n",
      "=================================================================\n",
      "efficientnetb0 (Functional)  (None, 7, 7, 1280)        4049571   \n",
      "_________________________________________________________________\n",
      "global_average_pooling2d (Gl (None, 1280)              0         \n",
      "_________________________________________________________________\n",
      "dense (Dense)                (None, 256)               327936    \n",
      "_________________________________________________________________\n",
      "dropout (Dropout)            (None, 256)               0         \n",
      "_________________________________________________________________\n",
      "dense_1 (Dense)              (None, 5)                 1285      \n",
      "=================================================================\n",
      "Total params: 4,378,792\n",
      "Trainable params: 4,336,769\n",
      "Non-trainable params: 42,023\n",
      "_________________________________________________________________\n"
     ]
    }
   ],
   "source": [
    "new_model.summary()"
   ]
  },
  {
   "cell_type": "markdown",
   "metadata": {
    "papermill": {
     "duration": 0.009835,
     "end_time": "2021-02-06T11:15:35.908666",
     "exception": false,
     "start_time": "2021-02-06T11:15:35.898831",
     "status": "completed"
    },
    "tags": []
   },
   "source": [
    "# Prediction and submission"
   ]
  },
  {
   "cell_type": "code",
   "execution_count": 6,
   "metadata": {
    "execution": {
     "iopub.execute_input": "2021-02-06T11:15:35.933860Z",
     "iopub.status.busy": "2021-02-06T11:15:35.932965Z",
     "iopub.status.idle": "2021-02-06T11:15:35.936600Z",
     "shell.execute_reply": "2021-02-06T11:15:35.935965Z"
    },
    "papermill": {
     "duration": 0.018105,
     "end_time": "2021-02-06T11:15:35.936709",
     "exception": false,
     "start_time": "2021-02-06T11:15:35.918604",
     "status": "completed"
    },
    "tags": []
   },
   "outputs": [],
   "source": [
    "IMG_SIZE = 300\n",
    "size = (IMG_SIZE,IMG_SIZE)"
   ]
  },
  {
   "cell_type": "code",
   "execution_count": 7,
   "metadata": {
    "execution": {
     "iopub.execute_input": "2021-02-06T11:15:35.963225Z",
     "iopub.status.busy": "2021-02-06T11:15:35.962504Z",
     "iopub.status.idle": "2021-02-06T11:15:37.832134Z",
     "shell.execute_reply": "2021-02-06T11:15:37.831498Z"
    },
    "papermill": {
     "duration": 1.88577,
     "end_time": "2021-02-06T11:15:37.832256",
     "exception": false,
     "start_time": "2021-02-06T11:15:35.946486",
     "status": "completed"
    },
    "tags": []
   },
   "outputs": [],
   "source": [
    "test_images = os.listdir(TEST_DIR)\n",
    "preds = []\n",
    "for image in test_images:\n",
    "    img = Image.open(TEST_DIR + image)\n",
    "    img = img.resize(size)\n",
    "    img = np.expand_dims(img, axis=0)\n",
    "    preds.extend(new_model.predict(img).argmax(axis = 1))"
   ]
  },
  {
   "cell_type": "code",
   "execution_count": 8,
   "metadata": {
    "execution": {
     "iopub.execute_input": "2021-02-06T11:15:37.858729Z",
     "iopub.status.busy": "2021-02-06T11:15:37.857657Z",
     "iopub.status.idle": "2021-02-06T11:15:37.862967Z",
     "shell.execute_reply": "2021-02-06T11:15:37.862377Z"
    },
    "papermill": {
     "duration": 0.020507,
     "end_time": "2021-02-06T11:15:37.863086",
     "exception": false,
     "start_time": "2021-02-06T11:15:37.842579",
     "status": "completed"
    },
    "tags": []
   },
   "outputs": [
    {
     "data": {
      "text/plain": [
       "[2]"
      ]
     },
     "execution_count": 8,
     "metadata": {},
     "output_type": "execute_result"
    }
   ],
   "source": [
    "preds"
   ]
  },
  {
   "cell_type": "code",
   "execution_count": 9,
   "metadata": {
    "execution": {
     "iopub.execute_input": "2021-02-06T11:15:37.906747Z",
     "iopub.status.busy": "2021-02-06T11:15:37.906046Z",
     "iopub.status.idle": "2021-02-06T11:15:38.213839Z",
     "shell.execute_reply": "2021-02-06T11:15:38.214733Z"
    },
    "papermill": {
     "duration": 0.34084,
     "end_time": "2021-02-06T11:15:38.214937",
     "exception": false,
     "start_time": "2021-02-06T11:15:37.874097",
     "status": "completed"
    },
    "tags": []
   },
   "outputs": [
    {
     "data": {
      "text/html": [
       "<div>\n",
       "<style scoped>\n",
       "    .dataframe tbody tr th:only-of-type {\n",
       "        vertical-align: middle;\n",
       "    }\n",
       "\n",
       "    .dataframe tbody tr th {\n",
       "        vertical-align: top;\n",
       "    }\n",
       "\n",
       "    .dataframe thead th {\n",
       "        text-align: right;\n",
       "    }\n",
       "</style>\n",
       "<table border=\"1\" class=\"dataframe\">\n",
       "  <thead>\n",
       "    <tr style=\"text-align: right;\">\n",
       "      <th></th>\n",
       "      <th>image_id</th>\n",
       "      <th>label</th>\n",
       "    </tr>\n",
       "  </thead>\n",
       "  <tbody>\n",
       "    <tr>\n",
       "      <th>0</th>\n",
       "      <td>2216849948.jpg</td>\n",
       "      <td>2</td>\n",
       "    </tr>\n",
       "  </tbody>\n",
       "</table>\n",
       "</div>"
      ],
      "text/plain": [
       "         image_id  label\n",
       "0  2216849948.jpg      2"
      ]
     },
     "metadata": {},
     "output_type": "display_data"
    }
   ],
   "source": [
    "sub = pd.DataFrame({'image_id': test_images, 'label': preds})\n",
    "display(sub)\n",
    "sub.to_csv('submission.csv', index = False)"
   ]
  },
  {
   "cell_type": "markdown",
   "metadata": {
    "papermill": {
     "duration": 0.011266,
     "end_time": "2021-02-06T11:15:38.238014",
     "exception": false,
     "start_time": "2021-02-06T11:15:38.226748",
     "status": "completed"
    },
    "tags": []
   },
   "source": [
    "[Training Notebook](https://www.kaggle.com/lavanyask/cassava-leaf-disease-first-look-and-training)"
   ]
  }
 ],
 "metadata": {
  "kernelspec": {
   "display_name": "Python 3",
   "language": "python",
   "name": "python3"
  },
  "language_info": {
   "codemirror_mode": {
    "name": "ipython",
    "version": 3
   },
   "file_extension": ".py",
   "mimetype": "text/x-python",
   "name": "python",
   "nbconvert_exporter": "python",
   "pygments_lexer": "ipython3",
   "version": "3.7.6"
  },
  "papermill": {
   "duration": 20.558636,
   "end_time": "2021-02-06T11:15:38.358574",
   "environment_variables": {},
   "exception": null,
   "input_path": "__notebook__.ipynb",
   "output_path": "__notebook__.ipynb",
   "parameters": {},
   "start_time": "2021-02-06T11:15:17.799938",
   "version": "2.1.0"
  }
 },
 "nbformat": 4,
 "nbformat_minor": 4
}
